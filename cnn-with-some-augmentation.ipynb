{
 "cells": [
  {
   "cell_type": "code",
   "execution_count": 1,
   "id": "41afe20a",
   "metadata": {
    "_cell_guid": "b1076dfc-b9ad-4769-8c92-a6c4dae69d19",
    "_uuid": "8f2839f25d086af736a60e9eeb907d3b93b6e0e5",
    "execution": {
     "iopub.execute_input": "2022-06-28T05:26:49.812791Z",
     "iopub.status.busy": "2022-06-28T05:26:49.812349Z",
     "iopub.status.idle": "2022-06-28T05:26:49.824667Z",
     "shell.execute_reply": "2022-06-28T05:26:49.823892Z"
    },
    "papermill": {
     "duration": 0.021321,
     "end_time": "2022-06-28T05:26:49.826884",
     "exception": false,
     "start_time": "2022-06-28T05:26:49.805563",
     "status": "completed"
    },
    "tags": []
   },
   "outputs": [
    {
     "name": "stdout",
     "output_type": "stream",
     "text": [
      "/kaggle/input/digit-recognizer/sample_submission.csv\n",
      "/kaggle/input/digit-recognizer/train.csv\n",
      "/kaggle/input/digit-recognizer/test.csv\n"
     ]
    }
   ],
   "source": [
    "# This Python 3 environment comes with many helpful analytics libraries installed\n",
    "# It is defined by the kaggle/python Docker image: https://github.com/kaggle/docker-python\n",
    "# For example, here's several helpful packages to load\n",
    "\n",
    "import numpy as np # linear algebra\n",
    "import pandas as pd # data processing, CSV file I/O (e.g. pd.read_csv)\n",
    "\n",
    "# Input data files are available in the read-only \"../input/\" directory\n",
    "# For example, running this (by clicking run or pressing Shift+Enter) will list all files under the input directory\n",
    "\n",
    "import os\n",
    "for dirname, _, filenames in os.walk('/kaggle/input'):\n",
    "    for filename in filenames:\n",
    "        print(os.path.join(dirname, filename))\n",
    "\n",
    "# You can write up to 20GB to the current directory (/kaggle/working/) that gets preserved as output when you create a version using \"Save & Run All\" \n",
    "# You can also write temporary files to /kaggle/temp/, but they won't be saved outside of the current session"
   ]
  },
  {
   "cell_type": "code",
   "execution_count": 2,
   "id": "8a2b0280",
   "metadata": {
    "execution": {
     "iopub.execute_input": "2022-06-28T05:26:49.836806Z",
     "iopub.status.busy": "2022-06-28T05:26:49.836374Z",
     "iopub.status.idle": "2022-06-28T05:27:00.265388Z",
     "shell.execute_reply": "2022-06-28T05:27:00.264489Z"
    },
    "papermill": {
     "duration": 10.436383,
     "end_time": "2022-06-28T05:27:00.267674",
     "exception": false,
     "start_time": "2022-06-28T05:26:49.831291",
     "status": "completed"
    },
    "tags": []
   },
   "outputs": [],
   "source": [
    "import pandas as pd\n",
    "\n",
    "import tensorflow as tf\n",
    "from tensorflow import keras\n",
    "\n",
    "from sklearn.model_selection import train_test_split\n",
    "\n",
    "from keras.models import Sequential\n",
    "from tensorflow.keras import layers\n",
    "from keras.layers import Dense, Dropout, Flatten, BatchNormalization\n",
    "from keras.callbacks import ReduceLROnPlateau\n",
    "from keras.preprocessing.image import ImageDataGenerator\n",
    "\n",
    "import warnings \n",
    "warnings.filterwarnings('ignore')"
   ]
  },
  {
   "cell_type": "code",
   "execution_count": 3,
   "id": "2e525478",
   "metadata": {
    "execution": {
     "iopub.execute_input": "2022-06-28T05:27:00.278398Z",
     "iopub.status.busy": "2022-06-28T05:27:00.277232Z",
     "iopub.status.idle": "2022-06-28T05:27:05.077272Z",
     "shell.execute_reply": "2022-06-28T05:27:05.076081Z"
    },
    "papermill": {
     "duration": 4.808436,
     "end_time": "2022-06-28T05:27:05.080275",
     "exception": false,
     "start_time": "2022-06-28T05:27:00.271839",
     "status": "completed"
    },
    "tags": []
   },
   "outputs": [],
   "source": [
    "train = pd.read_csv(\"../input/digit-recognizer/train.csv\")\n",
    "test = pd.read_csv(\"../input/digit-recognizer/test.csv\")\n",
    "sample = pd.read_csv('../input/digit-recognizer/sample_submission.csv')"
   ]
  },
  {
   "cell_type": "code",
   "execution_count": 4,
   "id": "a8b4c67f",
   "metadata": {
    "execution": {
     "iopub.execute_input": "2022-06-28T05:27:05.090059Z",
     "iopub.status.busy": "2022-06-28T05:27:05.089705Z",
     "iopub.status.idle": "2022-06-28T05:27:05.094824Z",
     "shell.execute_reply": "2022-06-28T05:27:05.093714Z"
    },
    "papermill": {
     "duration": 0.012523,
     "end_time": "2022-06-28T05:27:05.096980",
     "exception": false,
     "start_time": "2022-06-28T05:27:05.084457",
     "status": "completed"
    },
    "tags": []
   },
   "outputs": [],
   "source": [
    "#This is my first effort, using a simple, densely connected feed forward model. It attained a score of 0.97014. \n",
    "\n",
    "# Y_train = train[\"label\"]\n",
    "# X_train = train.drop(labels = [\"label\"],axis = 1) \n",
    "\n",
    "# X_train = X_train / 255.0\n",
    "# test = test / 255.0\n",
    "\n",
    "# x_train, y_train, x_val, y_val = train_test_split(X_train, Y_train, test_size = 0.15)\n",
    "\n",
    "# epochs = 50\n",
    "# learning_rate = 0.01\n",
    "# decay_rate = learning_rate / epochs\n",
    "# momentum = 0.8\n",
    "\n",
    "# model = keras.models.Sequential()\n",
    "# model.add(keras.layers.Dense(300, activation = 'LeakyReLU'))\n",
    "# model.add(BatchNormalization())\n",
    "# model.add(Dropout(0.5))\n",
    "# model.add(keras.layers.Dense(200, activation = 'LeakyReLU'))\n",
    "# model.add(BatchNormalization())\n",
    "# model.add(Dropout(0.5))\n",
    "# model.add(keras.layers.Dense(100, activation = 'LeakyReLU'))\n",
    "# model.add(keras.layers.Dense(10, activation = 'softmax'))\n",
    "\n",
    "# opt = keras.optimizers.SGD(learning_rate=learning_rate, momentum=momentum, decay=decay_rate, nesterov=False)\n",
    "# model.compile(loss = 'sparse_categorical_crossentropy', optimizer = opt, metrics = ['accuracy'])\n",
    "\n",
    "# fit = model.fit(x_train, x_val, batch_size = 128, \n",
    "#                     epochs = 240, validation_data =(y_train, y_val))\n",
    "\n",
    "# pred = model.predict(test)\n",
    "# pred_class = np.argmax(pred, axis=-1)\n",
    "# out = sample.copy()\n",
    "# out['Label'] = pred_class\n",
    "# out.to_csv(\"submission.csv\", index=False)"
   ]
  },
  {
   "cell_type": "code",
   "execution_count": 5,
   "id": "0fbeabd5",
   "metadata": {
    "execution": {
     "iopub.execute_input": "2022-06-28T05:27:05.106002Z",
     "iopub.status.busy": "2022-06-28T05:27:05.105609Z",
     "iopub.status.idle": "2022-06-28T05:27:05.717344Z",
     "shell.execute_reply": "2022-06-28T05:27:05.716195Z"
    },
    "papermill": {
     "duration": 0.619476,
     "end_time": "2022-06-28T05:27:05.720287",
     "exception": false,
     "start_time": "2022-06-28T05:27:05.100811",
     "status": "completed"
    },
    "tags": []
   },
   "outputs": [],
   "source": [
    "Y_train = train[\"label\"]\n",
    "X_train = train.drop(labels = [\"label\"],axis = 1) \n",
    "\n",
    "X_train = X_train / 255.0\n",
    "test = test / 255.0\n",
    "\n",
    "X_train = X_train.values.reshape(-1,28,28,1)\n",
    "test = test.values.reshape(-1,28,28,1)\n",
    "\n",
    "x_train, y_train, x_val, y_val = train_test_split(X_train, Y_train, test_size = 0.15)"
   ]
  },
  {
   "cell_type": "code",
   "execution_count": 6,
   "id": "db28af7e",
   "metadata": {
    "execution": {
     "iopub.execute_input": "2022-06-28T05:27:05.730728Z",
     "iopub.status.busy": "2022-06-28T05:27:05.729601Z",
     "iopub.status.idle": "2022-06-28T05:27:05.736494Z",
     "shell.execute_reply": "2022-06-28T05:27:05.735341Z"
    },
    "papermill": {
     "duration": 0.015059,
     "end_time": "2022-06-28T05:27:05.739427",
     "exception": false,
     "start_time": "2022-06-28T05:27:05.724368",
     "status": "completed"
    },
    "tags": []
   },
   "outputs": [],
   "source": [
    "# data_augmentation = keras.Sequential(\n",
    "#     [layers.RandomRotation(0.05),\n",
    "#      layers.RandomZoom(0.10),\n",
    "#      layers.RandomTranslation(height_factor=(-0.1, 0.1),\n",
    "#                               width_factor=(-0.1, 0.1),\n",
    "#                               fill_mode='nearest')])"
   ]
  },
  {
   "cell_type": "code",
   "execution_count": 7,
   "id": "45428596",
   "metadata": {
    "execution": {
     "iopub.execute_input": "2022-06-28T05:27:05.749130Z",
     "iopub.status.busy": "2022-06-28T05:27:05.748770Z",
     "iopub.status.idle": "2022-06-28T05:27:05.753590Z",
     "shell.execute_reply": "2022-06-28T05:27:05.752322Z"
    },
    "papermill": {
     "duration": 0.012284,
     "end_time": "2022-06-28T05:27:05.755735",
     "exception": false,
     "start_time": "2022-06-28T05:27:05.743451",
     "status": "completed"
    },
    "tags": []
   },
   "outputs": [],
   "source": [
    "# learning_rate_reduction = ReduceLROnPlateau(monitor='val_acc', \n",
    "#                                             patience=3, \n",
    "#                                             verbose=1, \n",
    "#                                             factor=0.5, \n",
    "#                                             min_lr=0.00001)"
   ]
  },
  {
   "cell_type": "code",
   "execution_count": 8,
   "id": "fbc0cf86",
   "metadata": {
    "execution": {
     "iopub.execute_input": "2022-06-28T05:27:05.765114Z",
     "iopub.status.busy": "2022-06-28T05:27:05.764753Z",
     "iopub.status.idle": "2022-06-28T05:27:05.770705Z",
     "shell.execute_reply": "2022-06-28T05:27:05.769739Z"
    },
    "papermill": {
     "duration": 0.013623,
     "end_time": "2022-06-28T05:27:05.773162",
     "exception": false,
     "start_time": "2022-06-28T05:27:05.759539",
     "status": "completed"
    },
    "tags": []
   },
   "outputs": [],
   "source": [
    "epochs = 50\n",
    "learning_rate = 0.01\n",
    "decay_rate = learning_rate / epochs\n",
    "momentum = 0.8\n",
    "batch_size = 64"
   ]
  },
  {
   "cell_type": "code",
   "execution_count": 9,
   "id": "77c6eef4",
   "metadata": {
    "execution": {
     "iopub.execute_input": "2022-06-28T05:27:05.782510Z",
     "iopub.status.busy": "2022-06-28T05:27:05.782131Z",
     "iopub.status.idle": "2022-06-28T05:27:05.897471Z",
     "shell.execute_reply": "2022-06-28T05:27:05.896293Z"
    },
    "papermill": {
     "duration": 0.123151,
     "end_time": "2022-06-28T05:27:05.900186",
     "exception": false,
     "start_time": "2022-06-28T05:27:05.777035",
     "status": "completed"
    },
    "tags": []
   },
   "outputs": [],
   "source": [
    "datagen = ImageDataGenerator(\n",
    "        featurewise_center=False,  # set input mean to 0 over the dataset\n",
    "        samplewise_center=False,  # set each sample mean to 0\n",
    "        featurewise_std_normalization=False,  # divide inputs by std of the dataset\n",
    "        samplewise_std_normalization=False,  # divide each input by its std\n",
    "        zca_whitening=False,  # apply ZCA whitening\n",
    "        rotation_range=10,  # randomly rotate images in the range (degrees, 0 to 180)\n",
    "        zoom_range = 0.1, # Randomly zoom image \n",
    "        width_shift_range=0.1,  # randomly shift images horizontally (fraction of total width)\n",
    "        height_shift_range=0.1,  # randomly shift images vertically (fraction of total height)\n",
    "        horizontal_flip=False,  # randomly flip images\n",
    "        vertical_flip=False)  # randomly flip images\n",
    "\n",
    "datagen.fit(x_train)"
   ]
  },
  {
   "cell_type": "code",
   "execution_count": 10,
   "id": "900d7520",
   "metadata": {
    "execution": {
     "iopub.execute_input": "2022-06-28T05:27:05.909897Z",
     "iopub.status.busy": "2022-06-28T05:27:05.909186Z",
     "iopub.status.idle": "2022-06-28T05:27:06.129264Z",
     "shell.execute_reply": "2022-06-28T05:27:06.128105Z"
    },
    "papermill": {
     "duration": 0.227408,
     "end_time": "2022-06-28T05:27:06.131506",
     "exception": false,
     "start_time": "2022-06-28T05:27:05.904098",
     "status": "completed"
    },
    "tags": []
   },
   "outputs": [
    {
     "name": "stderr",
     "output_type": "stream",
     "text": [
      "2022-06-28 05:27:05.965117: I tensorflow/core/common_runtime/process_util.cc:146] Creating new thread pool with default inter op setting: 2. Tune using inter_op_parallelism_threads for best performance.\n"
     ]
    }
   ],
   "source": [
    "inputs = keras.Input(shape=(28,28,1))\n",
    "# x = data_augmentation(inputs)\n",
    "x = layers.Conv2D(filters=128, kernel_size=5, activation = 'relu')(inputs)\n",
    "x = BatchNormalization()(x)\n",
    "x = layers.MaxPooling2D(pool_size=2)(x)\n",
    "x = layers.Conv2D(filters=256, kernel_size=3, activation = 'relu')(x)\n",
    "x = Dropout(rate = 0.25)(x)\n",
    "x = BatchNormalization()(x)\n",
    "x = layers.MaxPooling2D(pool_size=2)(x)\n",
    "x = layers.Conv2D(filters=256, kernel_size=3, activation = 'relu')(x)\n",
    "x = Dropout(rate = 0.25)(x)\n",
    "x = BatchNormalization()(x)\n",
    "x = layers.MaxPooling2D(pool_size=2)(x)\n",
    "x = layers.Flatten()(x)\n",
    "x = Dense(256, activation = 'relu')(x)\n",
    "x = BatchNormalization()(x)\n",
    "x = Dropout(rate = 0.5)(x)\n",
    "\n",
    "outputs = layers.Dense(10, activation='softmax')(x)\n",
    "model = keras.Model(inputs=inputs, outputs=outputs)\n",
    "\n",
    "opt = keras.optimizers.RMSprop(learning_rate=learning_rate, momentum=momentum, decay=decay_rate)\n",
    "model.compile(loss='sparse_categorical_crossentropy', optimizer=opt, metrics=['accuracy'])"
   ]
  },
  {
   "cell_type": "code",
   "execution_count": 11,
   "id": "67458655",
   "metadata": {
    "execution": {
     "iopub.execute_input": "2022-06-28T05:27:06.141560Z",
     "iopub.status.busy": "2022-06-28T05:27:06.140916Z",
     "iopub.status.idle": "2022-06-28T06:35:10.083735Z",
     "shell.execute_reply": "2022-06-28T06:35:10.082697Z"
    },
    "papermill": {
     "duration": 4083.950816,
     "end_time": "2022-06-28T06:35:10.086306",
     "exception": false,
     "start_time": "2022-06-28T05:27:06.135490",
     "status": "completed"
    },
    "tags": []
   },
   "outputs": [
    {
     "name": "stderr",
     "output_type": "stream",
     "text": [
      "2022-06-28 05:27:06.300031: I tensorflow/compiler/mlir/mlir_graph_optimization_pass.cc:185] None of the MLIR Optimization Passes are enabled (registered 2)\n"
     ]
    },
    {
     "name": "stdout",
     "output_type": "stream",
     "text": [
      "Epoch 1/30\n",
      "558/558 - 109s - loss: 0.5616 - accuracy: 0.8523 - val_loss: 0.1588 - val_accuracy: 0.9608\n",
      "Epoch 2/30\n",
      "558/558 - 107s - loss: 0.2910 - accuracy: 0.9351 - val_loss: 0.1788 - val_accuracy: 0.9557\n",
      "Epoch 3/30\n",
      "558/558 - 111s - loss: 0.2298 - accuracy: 0.9512 - val_loss: 0.1211 - val_accuracy: 0.9713\n",
      "Epoch 4/30\n",
      "558/558 - 106s - loss: 0.2112 - accuracy: 0.9564 - val_loss: 0.1956 - val_accuracy: 0.9546\n",
      "Epoch 5/30\n",
      "558/558 - 105s - loss: 0.1773 - accuracy: 0.9626 - val_loss: 0.0625 - val_accuracy: 0.9854\n",
      "Epoch 6/30\n",
      "558/558 - 105s - loss: 0.1594 - accuracy: 0.9661 - val_loss: 0.1173 - val_accuracy: 0.9708\n",
      "Epoch 7/30\n",
      "558/558 - 107s - loss: 0.1470 - accuracy: 0.9683 - val_loss: 0.0652 - val_accuracy: 0.9819\n",
      "Epoch 8/30\n",
      "558/558 - 105s - loss: 0.1314 - accuracy: 0.9714 - val_loss: 0.1245 - val_accuracy: 0.9611\n",
      "Epoch 9/30\n",
      "558/558 - 105s - loss: 0.1166 - accuracy: 0.9746 - val_loss: 0.0536 - val_accuracy: 0.9881\n",
      "Epoch 10/30\n",
      "558/558 - 105s - loss: 0.1151 - accuracy: 0.9752 - val_loss: 0.0526 - val_accuracy: 0.9849\n",
      "Epoch 11/30\n",
      "558/558 - 105s - loss: 0.1051 - accuracy: 0.9776 - val_loss: 0.0494 - val_accuracy: 0.9848\n",
      "Epoch 12/30\n",
      "558/558 - 107s - loss: 0.1013 - accuracy: 0.9776 - val_loss: 0.0392 - val_accuracy: 0.9900\n",
      "Epoch 13/30\n",
      "558/558 - 107s - loss: 0.0885 - accuracy: 0.9804 - val_loss: 0.0607 - val_accuracy: 0.9819\n",
      "Epoch 14/30\n",
      "558/558 - 107s - loss: 0.0898 - accuracy: 0.9802 - val_loss: 0.0320 - val_accuracy: 0.9917\n",
      "Epoch 15/30\n",
      "558/558 - 108s - loss: 0.0855 - accuracy: 0.9799 - val_loss: 0.0334 - val_accuracy: 0.9922\n",
      "Epoch 16/30\n",
      "558/558 - 107s - loss: 0.0805 - accuracy: 0.9818 - val_loss: 0.0537 - val_accuracy: 0.9835\n",
      "Epoch 17/30\n",
      "558/558 - 107s - loss: 0.0841 - accuracy: 0.9815 - val_loss: 0.0365 - val_accuracy: 0.9903\n",
      "Epoch 18/30\n",
      "558/558 - 106s - loss: 0.0723 - accuracy: 0.9834 - val_loss: 0.0408 - val_accuracy: 0.9898\n",
      "Epoch 19/30\n",
      "558/558 - 106s - loss: 0.0713 - accuracy: 0.9829 - val_loss: 0.0370 - val_accuracy: 0.9903\n",
      "Epoch 20/30\n",
      "558/558 - 107s - loss: 0.0653 - accuracy: 0.9847 - val_loss: 0.0268 - val_accuracy: 0.9924\n",
      "Epoch 21/30\n",
      "558/558 - 107s - loss: 0.0666 - accuracy: 0.9843 - val_loss: 0.0319 - val_accuracy: 0.9929\n",
      "Epoch 22/30\n",
      "558/558 - 107s - loss: 0.0665 - accuracy: 0.9844 - val_loss: 0.0332 - val_accuracy: 0.9921\n",
      "Epoch 23/30\n",
      "558/558 - 107s - loss: 0.0571 - accuracy: 0.9869 - val_loss: 0.0394 - val_accuracy: 0.9908\n",
      "Epoch 24/30\n",
      "558/558 - 106s - loss: 0.0637 - accuracy: 0.9850 - val_loss: 0.0281 - val_accuracy: 0.9933\n",
      "Epoch 25/30\n",
      "558/558 - 106s - loss: 0.0586 - accuracy: 0.9857 - val_loss: 0.0304 - val_accuracy: 0.9919\n",
      "Epoch 26/30\n",
      "558/558 - 106s - loss: 0.0547 - accuracy: 0.9869 - val_loss: 0.0467 - val_accuracy: 0.9870\n",
      "Epoch 27/30\n",
      "558/558 - 106s - loss: 0.0539 - accuracy: 0.9873 - val_loss: 0.0241 - val_accuracy: 0.9937\n",
      "Epoch 28/30\n",
      "558/558 - 107s - loss: 0.0573 - accuracy: 0.9863 - val_loss: 0.0295 - val_accuracy: 0.9922\n",
      "Epoch 29/30\n",
      "558/558 - 106s - loss: 0.0503 - accuracy: 0.9878 - val_loss: 0.0361 - val_accuracy: 0.9900\n",
      "Epoch 30/30\n",
      "558/558 - 106s - loss: 0.0454 - accuracy: 0.9882 - val_loss: 0.0408 - val_accuracy: 0.9911\n"
     ]
    }
   ],
   "source": [
    "fit = model.fit_generator(datagen.flow(x_train,x_val, batch_size=64),\n",
    "                              epochs = 30, validation_data = (y_train,y_val),\n",
    "                              verbose = 2)"
   ]
  },
  {
   "cell_type": "code",
   "execution_count": 12,
   "id": "8a5b489b",
   "metadata": {
    "execution": {
     "iopub.execute_input": "2022-06-28T06:35:10.102121Z",
     "iopub.status.busy": "2022-06-28T06:35:10.101710Z",
     "iopub.status.idle": "2022-06-28T06:35:10.106587Z",
     "shell.execute_reply": "2022-06-28T06:35:10.105777Z"
    },
    "papermill": {
     "duration": 0.015174,
     "end_time": "2022-06-28T06:35:10.108595",
     "exception": false,
     "start_time": "2022-06-28T06:35:10.093421",
     "status": "completed"
    },
    "tags": []
   },
   "outputs": [],
   "source": [
    "# inputs = keras.Input(shape=(28,28,1))\n",
    "# # x = data_augmentation(inputs)\n",
    "# x = layers.Conv2D(filters=64, kernel_size=3, activation = 'relu')(inputs)\n",
    "# x = BatchNormalization()(x)\n",
    "# x = layers.MaxPooling2D(pool_size=2)(x)\n",
    "# x = layers.Conv2D(filters=128, kernel_size=3, activation = 'relu')(x)\n",
    "# x = Dropout(rate = 0.25)(x)\n",
    "# x = layers.MaxPooling2D(pool_size=2)(x)\n",
    "# x = layers.Conv2D(filters=128, kernel_size=3, activation = 'relu')(x)\n",
    "# x = BatchNormalization()(x)\n",
    "# x = layers.MaxPooling2D(pool_size=2)(x)\n",
    "# x = Dropout(rate = 0.25)(x)\n",
    "\n",
    "\n",
    "# x = layers.Flatten()(x)\n",
    "# x = Dense(256, activation = 'relu')(x)\n",
    "# x = BatchNormalization()(x)\n",
    "# x = Dropout(rate = 0.5)(x)\n",
    "\n",
    "# outputs = layers.Dense(10, activation='softmax')(x)\n",
    "# model = keras.Model(inputs=inputs, outputs=outputs)\n",
    "\n",
    "# opt = keras.optimizers.SGD(learning_rate=learning_rate, momentum=momentum, decay=decay_rate, nesterov=False)\n",
    "# # opt = keras.optimizers.RMSprop(lr=0.001, rho=0.9, epsilon=1e-08, decay=0.0)\n",
    "# model.compile(loss='sparse_categorical_crossentropy', optimizer=opt, metrics=['accuracy'])"
   ]
  },
  {
   "cell_type": "code",
   "execution_count": 13,
   "id": "7aaf6827",
   "metadata": {
    "execution": {
     "iopub.execute_input": "2022-06-28T06:35:10.125044Z",
     "iopub.status.busy": "2022-06-28T06:35:10.124282Z",
     "iopub.status.idle": "2022-06-28T06:35:10.128966Z",
     "shell.execute_reply": "2022-06-28T06:35:10.128006Z"
    },
    "papermill": {
     "duration": 0.015438,
     "end_time": "2022-06-28T06:35:10.131132",
     "exception": false,
     "start_time": "2022-06-28T06:35:10.115694",
     "status": "completed"
    },
    "tags": []
   },
   "outputs": [],
   "source": [
    "# fit = model.fit_generator(datagen.flow(x_train,x_val, batch_size=batch_size),\n",
    "#                               epochs = 43, validation_data = (y_train,y_val),\n",
    "#                               verbose = 2)"
   ]
  },
  {
   "cell_type": "code",
   "execution_count": null,
   "id": "af1810ae",
   "metadata": {
    "execution": {
     "iopub.execute_input": "2022-06-27T03:45:15.626777Z",
     "iopub.status.busy": "2022-06-27T03:45:15.626396Z",
     "iopub.status.idle": "2022-06-27T03:45:15.633621Z",
     "shell.execute_reply": "2022-06-27T03:45:15.632798Z",
     "shell.execute_reply.started": "2022-06-27T03:45:15.626746Z"
    },
    "papermill": {
     "duration": 0.006668,
     "end_time": "2022-06-28T06:35:10.144714",
     "exception": false,
     "start_time": "2022-06-28T06:35:10.138046",
     "status": "completed"
    },
    "tags": []
   },
   "outputs": [],
   "source": []
  },
  {
   "cell_type": "code",
   "execution_count": 14,
   "id": "dac6248d",
   "metadata": {
    "execution": {
     "iopub.execute_input": "2022-06-28T06:35:10.162113Z",
     "iopub.status.busy": "2022-06-28T06:35:10.161121Z",
     "iopub.status.idle": "2022-06-28T06:35:33.085180Z",
     "shell.execute_reply": "2022-06-28T06:35:33.083990Z"
    },
    "papermill": {
     "duration": 22.93587,
     "end_time": "2022-06-28T06:35:33.088143",
     "exception": false,
     "start_time": "2022-06-28T06:35:10.152273",
     "status": "completed"
    },
    "tags": []
   },
   "outputs": [],
   "source": [
    "pred = model.predict(test)\n",
    "pred_class = np.argmax(pred, axis=-1)\n",
    "out = sample.copy()\n",
    "out['Label'] = pred_class\n",
    "out.to_csv(\"submission.csv\", index=False)"
   ]
  },
  {
   "cell_type": "code",
   "execution_count": null,
   "id": "31ee1ab0",
   "metadata": {
    "papermill": {
     "duration": 0.006779,
     "end_time": "2022-06-28T06:35:33.102721",
     "exception": false,
     "start_time": "2022-06-28T06:35:33.095942",
     "status": "completed"
    },
    "tags": []
   },
   "outputs": [],
   "source": []
  }
 ],
 "metadata": {
  "kernelspec": {
   "display_name": "Python 3",
   "language": "python",
   "name": "python3"
  },
  "language_info": {
   "codemirror_mode": {
    "name": "ipython",
    "version": 3
   },
   "file_extension": ".py",
   "mimetype": "text/x-python",
   "name": "python",
   "nbconvert_exporter": "python",
   "pygments_lexer": "ipython3",
   "version": "3.7.12"
  },
  "papermill": {
   "default_parameters": {},
   "duration": 4135.365703,
   "end_time": "2022-06-28T06:35:36.197419",
   "environment_variables": {},
   "exception": null,
   "input_path": "__notebook__.ipynb",
   "output_path": "__notebook__.ipynb",
   "parameters": {},
   "start_time": "2022-06-28T05:26:40.831716",
   "version": "2.3.4"
  }
 },
 "nbformat": 4,
 "nbformat_minor": 5
}
