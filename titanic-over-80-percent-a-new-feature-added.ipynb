{
 "cells": [
  {
   "cell_type": "markdown",
   "metadata": {
    "papermill": {
     "duration": 0.015848,
     "end_time": "2022-07-03T23:45:29.788221",
     "exception": false,
     "start_time": "2022-07-03T23:45:29.772373",
     "status": "completed"
    },
    "tags": []
   },
   "source": [
    "**Titanic Notebook**\n",
    "\n",
    "This is a really basic effort. I created this when I was first really getting into machine learning and coding in Python, and I think that this inexperience shows. I read a lot of other notebooks while working this out, and have tried to give credit where it was due. The only really original-ish contribution I have made in this is through some feature engineering...\n",
    "\n",
    "I assumed that the position of people's cabins on the ship may have influenced their chances of surviving. So I went and looked up some schematics of th Titanic and made a feature based on this info. It wasn't really a game changer in terms of improving the predictive power of my model, but I thought it was an interesting inclusion to the overall body of work on Kaggle for this competition."
   ]
  },
  {
   "cell_type": "code",
   "execution_count": 1,
   "metadata": {
    "execution": {
     "iopub.execute_input": "2022-07-03T23:45:29.820034Z",
     "iopub.status.busy": "2022-07-03T23:45:29.819320Z",
     "iopub.status.idle": "2022-07-03T23:45:29.828012Z",
     "shell.execute_reply": "2022-07-03T23:45:29.828825Z"
    },
    "papermill": {
     "duration": 0.026737,
     "end_time": "2022-07-03T23:45:29.829240",
     "exception": false,
     "start_time": "2022-07-03T23:45:29.802503",
     "status": "completed"
    },
    "tags": []
   },
   "outputs": [
    {
     "name": "stdout",
     "output_type": "stream",
     "text": [
      "/kaggle/input/titanic/train.csv\n",
      "/kaggle/input/titanic/test.csv\n",
      "/kaggle/input/titanic/gender_submission.csv\n"
     ]
    }
   ],
   "source": [
    "# This Python 3 environment comes with many helpful analytics libraries installed\n",
    "# It is defined by the kaggle/python Docker image: https://github.com/kaggle/docker-python\n",
    "# For example, here's several helpful packages to load\n",
    "\n",
    "import numpy as np # linear algebra\n",
    "import pandas as pd # data processing, CSV file I/O (e.g. pd.read_csv)\n",
    "\n",
    "# Input data files are available in the read-only \"../input/\" directory\n",
    "# For example, running this (by clicking run or pressing Shift+Enter) will list all files under the input directory\n",
    "\n",
    "import os\n",
    "for dirname, _, filenames in os.walk('/kaggle/input'):\n",
    "    for filename in filenames:\n",
    "        print(os.path.join(dirname, filename))\n",
    "\n",
    "# You can write up to 20GB to the current directory (/kaggle/working/) that gets preserved as output when you create a version using \"Save & Run All\" \n",
    "# You can also write temporary files to /kaggle/temp/, but they won't be saved outside of the current session"
   ]
  },
  {
   "cell_type": "code",
   "execution_count": 2,
   "metadata": {
    "execution": {
     "iopub.execute_input": "2022-07-03T23:45:29.863277Z",
     "iopub.status.busy": "2022-07-03T23:45:29.862625Z",
     "iopub.status.idle": "2022-07-03T23:45:29.898055Z",
     "shell.execute_reply": "2022-07-03T23:45:29.898649Z"
    },
    "papermill": {
     "duration": 0.053577,
     "end_time": "2022-07-03T23:45:29.898851",
     "exception": false,
     "start_time": "2022-07-03T23:45:29.845274",
     "status": "completed"
    },
    "tags": []
   },
   "outputs": [],
   "source": [
    "train_data = pd.read_csv(\"/kaggle/input/titanic/train.csv\")\n",
    "X_test = pd.read_csv(\"/kaggle/input/titanic/test.csv\")\n",
    "Y_train = train_data['Survived']"
   ]
  },
  {
   "cell_type": "code",
   "execution_count": 3,
   "metadata": {
    "execution": {
     "iopub.execute_input": "2022-07-03T23:45:29.932007Z",
     "iopub.status.busy": "2022-07-03T23:45:29.931338Z",
     "iopub.status.idle": "2022-07-03T23:45:31.716593Z",
     "shell.execute_reply": "2022-07-03T23:45:31.715967Z"
    },
    "papermill": {
     "duration": 1.802848,
     "end_time": "2022-07-03T23:45:31.716751",
     "exception": false,
     "start_time": "2022-07-03T23:45:29.913903",
     "status": "completed"
    },
    "tags": []
   },
   "outputs": [
    {
     "data": {
      "text/html": [
       "<style type='text/css'>\n",
       ".datatable table.frame { margin-bottom: 0; }\n",
       ".datatable table.frame thead { border-bottom: none; }\n",
       ".datatable table.frame tr.coltypes td {  color: #FFFFFF;  line-height: 6px;  padding: 0 0.5em;}\n",
       ".datatable .bool    { background: #DDDD99; }\n",
       ".datatable .object  { background: #565656; }\n",
       ".datatable .int     { background: #5D9E5D; }\n",
       ".datatable .float   { background: #4040CC; }\n",
       ".datatable .str     { background: #CC4040; }\n",
       ".datatable .row_index {  background: var(--jp-border-color3);  border-right: 1px solid var(--jp-border-color0);  color: var(--jp-ui-font-color3);  font-size: 9px;}\n",
       ".datatable .frame tr.coltypes .row_index {  background: var(--jp-border-color0);}\n",
       ".datatable th:nth-child(2) { padding-left: 12px; }\n",
       ".datatable .hellipsis {  color: var(--jp-cell-editor-border-color);}\n",
       ".datatable .vellipsis {  background: var(--jp-layout-color0);  color: var(--jp-cell-editor-border-color);}\n",
       ".datatable .na {  color: var(--jp-cell-editor-border-color);  font-size: 80%;}\n",
       ".datatable .footer { font-size: 9px; }\n",
       ".datatable .frame_dimensions {  background: var(--jp-border-color3);  border-top: 1px solid var(--jp-border-color0);  color: var(--jp-ui-font-color3);  display: inline-block;  opacity: 0.6;  padding: 1px 10px 1px 5px;}\n",
       "</style>\n"
      ],
      "text/plain": [
       "<IPython.core.display.HTML object>"
      ]
     },
     "metadata": {},
     "output_type": "display_data"
    }
   ],
   "source": [
    "import sys\n",
    "import warnings\n",
    "warnings.filterwarnings('ignore')\n",
    "\n",
    "from collections import Counter\n",
    "\n",
    "from sklearn.model_selection import train_test_split\n",
    "\n",
    "from sklearn.ensemble import VotingClassifier, GradientBoostingClassifier\n",
    "from xgboost import XGBClassifier\n",
    "from lightgbm import LGBMClassifier\n",
    "\n",
    "\n",
    "from sklearn.metrics import confusion_matrix, accuracy_score, precision_score, recall_score, f1_score"
   ]
  },
  {
   "cell_type": "markdown",
   "metadata": {
    "papermill": {
     "duration": 0.015033,
     "end_time": "2022-07-03T23:45:31.747390",
     "exception": false,
     "start_time": "2022-07-03T23:45:31.732357",
     "status": "completed"
    },
    "tags": []
   },
   "source": [
    "# Removing outliers\n",
    "\n",
    "Learned from and acknowledgement of: https://www.kaggle.com/ritesh2000/ultimate-titanic-guide-for-beginners#Outlier-Detection"
   ]
  },
  {
   "cell_type": "code",
   "execution_count": 4,
   "metadata": {
    "execution": {
     "iopub.execute_input": "2022-07-03T23:45:31.789250Z",
     "iopub.status.busy": "2022-07-03T23:45:31.788360Z",
     "iopub.status.idle": "2022-07-03T23:45:31.825251Z",
     "shell.execute_reply": "2022-07-03T23:45:31.826501Z"
    },
    "papermill": {
     "duration": 0.063916,
     "end_time": "2022-07-03T23:45:31.826746",
     "exception": false,
     "start_time": "2022-07-03T23:45:31.762830",
     "status": "completed"
    },
    "tags": []
   },
   "outputs": [],
   "source": [
    "def detect_outliers(df,features):\n",
    "    outlier_indices = []\n",
    "    \n",
    "    for c in features:\n",
    "        # 1st quartile\n",
    "        Q1 = np.percentile(df[c],25)\n",
    "        # 3rd quartile\n",
    "        Q3 = np.percentile(df[c],75)\n",
    "        # IQR\n",
    "        IQR = Q3 - Q1\n",
    "        # Outlier step\n",
    "        outlier_step = IQR * 1.5\n",
    "        # detect outlier and their indeces\n",
    "        outlier_list_col = df[(df[c] < Q1 - outlier_step) | (df[c] > Q3 + outlier_step)].index\n",
    "        # store indeces\n",
    "        outlier_indices.extend(outlier_list_col)\n",
    "    \n",
    "    outlier_indices = Counter(outlier_indices)\n",
    "    multiple_outliers = list(i for i, v in outlier_indices.items() if v > 2)\n",
    "    \n",
    "    return multiple_outliers\n",
    "\n",
    "# X_train.loc[detect_outliers(X_train,[\"Age\",\"SibSp\",\"Parch\",\"Fare\"])]\n",
    "\n",
    "# drop outliers\n",
    "train_data = train_data.drop(detect_outliers(train_data,[\"Age\",\"SibSp\",\"Parch\",\"Fare\"]),axis = 0).reset_index(drop = True)\n",
    "X_test = X_test.drop(detect_outliers(X_test,[\"Age\",\"SibSp\",\"Parch\",\"Fare\"]),axis = 0).reset_index(drop = True)"
   ]
  },
  {
   "cell_type": "markdown",
   "metadata": {
    "papermill": {
     "duration": 0.015823,
     "end_time": "2022-07-03T23:45:31.859025",
     "exception": false,
     "start_time": "2022-07-03T23:45:31.843202",
     "status": "completed"
    },
    "tags": []
   },
   "source": [
    "# Creating 'Title' feature\n",
    "\n",
    "Learned from and acknowledgment of: https://www.kaggle.com/zohaib123/eda-to-prediction-dietanic"
   ]
  },
  {
   "cell_type": "code",
   "execution_count": 5,
   "metadata": {
    "execution": {
     "iopub.execute_input": "2022-07-03T23:45:31.897006Z",
     "iopub.status.busy": "2022-07-03T23:45:31.895913Z",
     "iopub.status.idle": "2022-07-03T23:45:31.996990Z",
     "shell.execute_reply": "2022-07-03T23:45:31.997726Z"
    },
    "papermill": {
     "duration": 0.122583,
     "end_time": "2022-07-03T23:45:31.997945",
     "exception": false,
     "start_time": "2022-07-03T23:45:31.875362",
     "status": "completed"
    },
    "tags": []
   },
   "outputs": [],
   "source": [
    "# Creating 'Title'\n",
    "\n",
    "# https://www.kaggle.com/zohaib123/eda-to-prediction-dietanic\n",
    "\n",
    "def get_title(in_data): # extract the Titles and cluster them\n",
    "\n",
    "    in_data['Title']=0\n",
    "    for i in in_data:\n",
    "        in_data['Title']=in_data.Name.str.extract('([A-Za-z]+)\\.') #lets extract the Salutations\n",
    "\n",
    "    in_data['Title'].replace(['Mlle','Mme','Ms','Dr','Major','Lady','Countess','Jonkheer','Col'\n",
    "                             ,'Rev','Capt','Sir','Don', 'Dona']\n",
    "                                  ,['Miss','Miss','Miss','Mr','Mr','Mrs'\n",
    "                            ,'Mrs','Other','Other','Other','Mr','Mr','Mr', 'Mrs'],inplace=True)\n",
    "\n",
    "# call this newly defined function\n",
    "get_title(train_data)\n",
    "get_title(X_test)"
   ]
  },
  {
   "cell_type": "code",
   "execution_count": 6,
   "metadata": {
    "execution": {
     "iopub.execute_input": "2022-07-03T23:45:32.035526Z",
     "iopub.status.busy": "2022-07-03T23:45:32.034474Z",
     "iopub.status.idle": "2022-07-03T23:45:32.048291Z",
     "shell.execute_reply": "2022-07-03T23:45:32.047526Z"
    },
    "papermill": {
     "duration": 0.034233,
     "end_time": "2022-07-03T23:45:32.048443",
     "exception": false,
     "start_time": "2022-07-03T23:45:32.014210",
     "status": "completed"
    },
    "tags": []
   },
   "outputs": [],
   "source": [
    "# Creating 'Shared' to see if people are sharing a cabin\n",
    "\n",
    "train_data['Shared'] = train_data['Cabin'].dropna().duplicated(False)\n",
    "train_data['Shared'] = train_data['Shared'].fillna(False)\n",
    "X_test['Shared'] = X_test['Cabin'].dropna().duplicated(False)\n",
    "X_test['Shared'] = X_test['Shared'].fillna(False)"
   ]
  },
  {
   "cell_type": "code",
   "execution_count": 7,
   "metadata": {
    "execution": {
     "iopub.execute_input": "2022-07-03T23:45:32.099815Z",
     "iopub.status.busy": "2022-07-03T23:45:32.098911Z",
     "iopub.status.idle": "2022-07-03T23:45:32.230332Z",
     "shell.execute_reply": "2022-07-03T23:45:32.229540Z"
    },
    "papermill": {
     "duration": 0.165202,
     "end_time": "2022-07-03T23:45:32.230497",
     "exception": false,
     "start_time": "2022-07-03T23:45:32.065295",
     "status": "completed"
    },
    "tags": []
   },
   "outputs": [],
   "source": [
    "#Creating 'Position'\n",
    "\n",
    "# https://www.encyclopedia-titanica.org/titanic-deckplans/b-deck.html\n",
    "\n",
    "def find_position(in_data):\n",
    "\n",
    "    # Creating 'Position'\n",
    "    in_data.loc[in_data['Cabin'].str.count(' ') > 0, 'Cabin'] = 'X999'\n",
    "    in_data.loc[in_data['Cabin'].str.len() < 2, 'Cabin'] = 'X999'\n",
    "    in_data['Cabin'] = in_data['Cabin'].fillna('X999')\n",
    "\n",
    "    in_data['Cab_No'] = in_data['Cabin'].str[1:].astype(int)\n",
    "    in_data['Cab_Level'] = in_data['Cabin'].str[0]\n",
    "\n",
    "    # Level A\n",
    "    in_data.loc[(in_data['Cab_No'] % 2 == 0) & (in_data['Cab_Level'] == 'A'), 'Position'] = 'Front Left'\n",
    "    in_data.loc[(in_data['Cab_No'] % 2 != 0) & (in_data['Cab_Level'] == 'A'), 'Position'] = 'Front Right'\n",
    "\n",
    "    # Level B\n",
    "    in_data.loc[(in_data['Cab_No'] % 2 == 0) & (in_data['Cab_Level'] == 'B') & (in_data['Cab_No'] < 80), 'Position'] = 'Middle Left'\n",
    "    in_data.loc[(in_data['Cab_No'] % 2 != 0) & (in_data['Cab_Level'] == 'B') & (in_data['Cab_No'] < 80), 'Position'] = 'Middle Right'\n",
    "    in_data.loc[(in_data['Cab_No'] % 2 == 0) & (in_data['Cab_Level'] == 'B') & (in_data['Cab_No'] < 50), 'Position'] = 'Front Left'\n",
    "    in_data.loc[(in_data['Cab_No'] % 2 != 0) & (in_data['Cab_Level'] == 'B') & (in_data['Cab_No'] < 50), 'Position'] = 'Front Right'\n",
    "    in_data.loc[(in_data['Cab_No'] % 2 == 0) & (in_data['Cab_Level'] == 'B') & (in_data['Cab_No'] > 79), 'Position'] = 'Rear Left'\n",
    "    in_data.loc[(in_data['Cab_No'] % 2 != 0) & (in_data['Cab_Level'] == 'B') & (in_data['Cab_No'] > 79), 'Position'] = 'Rear Right'\n",
    "\n",
    "    # Level C\n",
    "    in_data.loc[(in_data['Cab_No'] % 2 == 0) & (in_data['Cab_Level'] == 'C') & (in_data['Cab_No'] < 91), 'Position'] = 'Middle Left'\n",
    "    in_data.loc[(in_data['Cab_No'] % 2 != 0) & (in_data['Cab_Level'] == 'C') & (in_data['Cab_No'] < 84), 'Position'] = 'Middle Right'\n",
    "    in_data.loc[(in_data['Cab_No'] % 2 == 0) & (in_data['Cab_Level'] == 'C') & (in_data['Cab_No'] < 39), 'Position'] = 'Front Left'\n",
    "    in_data.loc[(in_data['Cab_No'] % 2 != 0) & (in_data['Cab_Level'] == 'C') & (in_data['Cab_No'] < 39), 'Position'] = 'Front Right'\n",
    "    in_data.loc[(in_data['Cab_No'] % 2 == 0) & (in_data['Cab_Level'] == 'C') & (in_data['Cab_No'] > 90), 'Position'] = 'Rear Left'\n",
    "    in_data.loc[(in_data['Cab_No'] % 2 != 0) & (in_data['Cab_Level'] == 'C') & (in_data['Cab_No'] > 83), 'Position'] = 'Rear Right'\n",
    "    in_data.loc[(in_data['Cab_No'] % 2 == 0) & (in_data['Cab_Level'] == 'C') & (in_data['Cab_No'] > 103) & (in_data['Cab_No'] < 141), 'Position'] = 'Middle Left'\n",
    "    in_data.loc[(in_data['Cab_No'] % 2 != 0) & (in_data['Cab_Level'] == 'C') & (in_data['Cab_No'] > 83) & (in_data['Cab_No'] < 124), 'Position'] = 'Middle Right'\n",
    "\n",
    "    # Level D\n",
    "    in_data.loc[(in_data['Cab_No'] % 2 == 0) & (in_data['Cab_Level'] == 'D') & (in_data['Cab_No'] < 51), 'Position'] = 'Front Left'\n",
    "    in_data.loc[(in_data['Cab_No'] % 2 != 0) & (in_data['Cab_Level'] == 'D') & (in_data['Cab_No'] < 51), 'Position'] = 'Front Right'\n",
    "    in_data.loc[(in_data['Cab_No'] % 2 == 0) & (in_data['Cab_Level'] == 'D') & (in_data['Cab_No'] > 50), 'Position'] = 'Rear Left'\n",
    "    in_data.loc[(in_data['Cab_No'] % 2 != 0) & (in_data['Cab_Level'] == 'D') & (in_data['Cab_No'] > 50), 'Position'] = 'Rear Right'\n",
    "\n",
    "    # Level E\n",
    "    in_data.loc[(in_data['Cab_Level'] == 'E') & (in_data['Cab_No'] < 70), 'Position'] = 'Middle Right'\n",
    "    in_data.loc[(in_data['Cab_Level'] == 'E') & (in_data['Cab_No'] < 23), 'Position'] = 'Front Right'\n",
    "    in_data.loc[(in_data['Cab_Level'] == 'E') & (in_data['Cab_No'] > 69), 'Position'] = 'Rear Right'\n",
    "    in_data.loc[(in_data['Cab_Level'] == 'E') & (in_data['Cab_No'] > 100), 'Position'] = 'Rear Left'\n",
    "    in_data.loc[(in_data['Cab_No'] % 2 == 0) & (in_data['Cab_Level'] == 'E') & (in_data['Cab_No'] > 137), 'Position'] = 'Rear Left'\n",
    "    in_data.loc[(in_data['Cab_No'] % 2 != 0) & (in_data['Cab_Level'] == 'E') & (in_data['Cab_No'] > 138), 'Position'] = 'Rear Right'\n",
    "\n",
    "    # Level F\n",
    "    in_data.loc[(in_data['Cab_No'] % 2 == 0) & (in_data['Cab_Level'] == 'F'), 'Position'] = 'Rear Left'\n",
    "    in_data.loc[(in_data['Cab_No'] % 2 != 0) & (in_data['Cab_Level'] == 'F'), 'Position'] = 'Rear Right'\n",
    "\n",
    "    # Level G\n",
    "    in_data.loc[(in_data['Cab_No'] % 2 == 0) & (in_data['Cab_Level'] == 'G'), 'Position'] = 'Rear Left'\n",
    "    in_data.loc[(in_data['Cab_No'] % 2 != 0) & (in_data['Cab_Level'] == 'G'), 'Position'] = 'Rear Right'\n",
    "\n",
    "    # Where Cabin was not recorded, or where no Cabin could be determined.\n",
    "    in_data.loc[in_data['Cab_No'] == 999, 'Position'] = 'Unknown'\n",
    "    \n",
    "# call this newly defined function\n",
    "find_position(train_data)\n",
    "find_position(X_test)"
   ]
  },
  {
   "cell_type": "code",
   "execution_count": 8,
   "metadata": {
    "execution": {
     "iopub.execute_input": "2022-07-03T23:45:32.275341Z",
     "iopub.status.busy": "2022-07-03T23:45:32.274253Z",
     "iopub.status.idle": "2022-07-03T23:45:32.277663Z",
     "shell.execute_reply": "2022-07-03T23:45:32.276877Z"
    },
    "papermill": {
     "duration": 0.029258,
     "end_time": "2022-07-03T23:45:32.277839",
     "exception": false,
     "start_time": "2022-07-03T23:45:32.248581",
     "status": "completed"
    },
    "tags": []
   },
   "outputs": [],
   "source": [
    "# Creating 'Family' - a single feature that counts how many family members the person had onboard\n",
    "# It does this by combining Siblings and Parents.\n",
    "# What about married couples?\n",
    "\n",
    "train_data['Family'] = train_data['SibSp'] + train_data['Parch']\n",
    "X_test['Family'] = X_test['SibSp'] + X_test['Parch']"
   ]
  },
  {
   "cell_type": "code",
   "execution_count": 9,
   "metadata": {
    "execution": {
     "iopub.execute_input": "2022-07-03T23:45:32.338165Z",
     "iopub.status.busy": "2022-07-03T23:45:32.322043Z",
     "iopub.status.idle": "2022-07-03T23:45:32.341266Z",
     "shell.execute_reply": "2022-07-03T23:45:32.341766Z"
    },
    "papermill": {
     "duration": 0.046204,
     "end_time": "2022-07-03T23:45:32.341981",
     "exception": false,
     "start_time": "2022-07-03T23:45:32.295777",
     "status": "completed"
    },
    "tags": []
   },
   "outputs": [],
   "source": [
    "# Creating 'Group' - which reflects whether the person is travelling alone or not. This is based on Family\n",
    "# size and the 'Shared' feature.\n",
    "\n",
    "train_data.loc[((train_data['Shared'] == False) | (train_data['Cabin'] == 'X999')) & (train_data['Family'] <= 1), 'Group'] = 'Alone'\n",
    "train_data.loc[((train_data['Family'] > 1) & (train_data['Family'] <= 5)), 'Group'] = 'Small'\n",
    "train_data.loc[((train_data['Shared'] == True) & (train_data['Family'] <= 1)), 'Group'] = 'Small'\n",
    "train_data.loc[(train_data['Family'] > 5), 'Group'] = 'Large'\n",
    "X_test.loc[((X_test['Shared'] == False) | (X_test['Cabin'] == 'X999')) & (X_test['Family'] <=1), 'Group'] = 'Alone'\n",
    "X_test.loc[((X_test['Family'] > 1) & (X_test['Family'] <= 5)), 'Group'] = 'Small'\n",
    "X_test.loc[((X_test['Shared'] == True) & (X_test['Family'] <= 1)), 'Group'] = 'Small'\n",
    "X_test.loc[(X_test['Family'] > 5), 'Group'] = 'Large'"
   ]
  },
  {
   "cell_type": "code",
   "execution_count": 10,
   "metadata": {
    "execution": {
     "iopub.execute_input": "2022-07-03T23:45:32.383055Z",
     "iopub.status.busy": "2022-07-03T23:45:32.382248Z",
     "iopub.status.idle": "2022-07-03T23:45:32.393297Z",
     "shell.execute_reply": "2022-07-03T23:45:32.393973Z"
    },
    "papermill": {
     "duration": 0.035057,
     "end_time": "2022-07-03T23:45:32.394166",
     "exception": false,
     "start_time": "2022-07-03T23:45:32.359109",
     "status": "completed"
    },
    "tags": []
   },
   "outputs": [],
   "source": [
    "# Creating 'Name_Length' - I don't know why this is significant, however multiple analyses have\n",
    "# shown that it is a relevant differentiator.\n",
    "\n",
    "train_data.loc[(train_data['Name'].apply(len) <= 30), 'Name_Length'] = 'Short'\n",
    "train_data.loc[(train_data['Name'].apply(len) > 30), 'Name_Length'] = 'Long'\n",
    "X_test.loc[(X_test['Name'].apply(len) <= 30), 'Name_Length'] = 'Short'\n",
    "X_test.loc[(X_test['Name'].apply(len) > 30), 'Name_Length'] = 'Long'"
   ]
  },
  {
   "cell_type": "code",
   "execution_count": 11,
   "metadata": {
    "execution": {
     "iopub.execute_input": "2022-07-03T23:45:32.432783Z",
     "iopub.status.busy": "2022-07-03T23:45:32.432068Z",
     "iopub.status.idle": "2022-07-03T23:45:32.436927Z",
     "shell.execute_reply": "2022-07-03T23:45:32.437489Z"
    },
    "papermill": {
     "duration": 0.025777,
     "end_time": "2022-07-03T23:45:32.437707",
     "exception": false,
     "start_time": "2022-07-03T23:45:32.411930",
     "status": "completed"
    },
    "tags": []
   },
   "outputs": [],
   "source": [
    "# impute for the column 'Embarked' using the mode, which is 'S'\n",
    "train_data['Embarked'].fillna('S',inplace=True)"
   ]
  },
  {
   "cell_type": "code",
   "execution_count": 12,
   "metadata": {
    "execution": {
     "iopub.execute_input": "2022-07-03T23:45:32.477315Z",
     "iopub.status.busy": "2022-07-03T23:45:32.476396Z",
     "iopub.status.idle": "2022-07-03T23:45:32.481785Z",
     "shell.execute_reply": "2022-07-03T23:45:32.482353Z"
    },
    "papermill": {
     "duration": 0.027013,
     "end_time": "2022-07-03T23:45:32.482536",
     "exception": false,
     "start_time": "2022-07-03T23:45:32.455523",
     "status": "completed"
    },
    "tags": []
   },
   "outputs": [],
   "source": [
    "# impute for the column 'Fare' using the mean\n",
    "X_test[\"Fare\"].fillna(X_test[\"Fare\"].mean(), inplace=True) "
   ]
  },
  {
   "cell_type": "code",
   "execution_count": 13,
   "metadata": {
    "execution": {
     "iopub.execute_input": "2022-07-03T23:45:32.526510Z",
     "iopub.status.busy": "2022-07-03T23:45:32.525767Z",
     "iopub.status.idle": "2022-07-03T23:45:32.539873Z",
     "shell.execute_reply": "2022-07-03T23:45:32.540534Z"
    },
    "papermill": {
     "duration": 0.040754,
     "end_time": "2022-07-03T23:45:32.540746",
     "exception": false,
     "start_time": "2022-07-03T23:45:32.499992",
     "status": "completed"
    },
    "tags": []
   },
   "outputs": [],
   "source": [
    "# impute Age based on the median age for that person's Title\n",
    "train_data['Age'] = train_data.groupby(['Title'])['Age'].apply(lambda x: x.fillna(x.median()))\n",
    "X_test['Age'] = X_test.groupby(['Title'])['Age'].apply(lambda x: x.fillna(x.median()))"
   ]
  },
  {
   "cell_type": "code",
   "execution_count": 14,
   "metadata": {
    "execution": {
     "iopub.execute_input": "2022-07-03T23:45:32.585994Z",
     "iopub.status.busy": "2022-07-03T23:45:32.584156Z",
     "iopub.status.idle": "2022-07-03T23:45:32.595173Z",
     "shell.execute_reply": "2022-07-03T23:45:32.594584Z"
    },
    "papermill": {
     "duration": 0.036427,
     "end_time": "2022-07-03T23:45:32.595328",
     "exception": false,
     "start_time": "2022-07-03T23:45:32.558901",
     "status": "completed"
    },
    "tags": []
   },
   "outputs": [],
   "source": [
    "def column_bin_q(in_data, in_col, out_col, div):\n",
    "    in_data[out_col] = pd.qcut(in_data[in_col], q=div, labels=False)\n",
    "\n",
    "# call this newly defined function\n",
    "column_bin_q(train_data, 'Age', 'Age_Bin_Q', 3)\n",
    "column_bin_q(train_data, 'Fare', 'Fare_Bin_Q', 3)\n",
    "column_bin_q(X_test, 'Age', 'Age_Bin_Q', 3)\n",
    "column_bin_q(X_test, 'Fare', 'Fare_Bin_Q', 3)"
   ]
  },
  {
   "cell_type": "code",
   "execution_count": 15,
   "metadata": {
    "execution": {
     "iopub.execute_input": "2022-07-03T23:45:32.635059Z",
     "iopub.status.busy": "2022-07-03T23:45:32.633968Z",
     "iopub.status.idle": "2022-07-03T23:45:32.656653Z",
     "shell.execute_reply": "2022-07-03T23:45:32.657231Z"
    },
    "papermill": {
     "duration": 0.044302,
     "end_time": "2022-07-03T23:45:32.657450",
     "exception": false,
     "start_time": "2022-07-03T23:45:32.613148",
     "status": "completed"
    },
    "tags": []
   },
   "outputs": [],
   "source": [
    "def column_fact(in_data, in_col, out_col):\n",
    "    in_data[out_col] = in_data[in_col].factorize()[0]\n",
    "\n",
    "# call this newly defined function\n",
    "column_fact(train_data, 'Sex', 'Sex_Factorised')\n",
    "column_fact(train_data, 'Embarked', 'Embarked_Factorised')\n",
    "column_fact(train_data, 'Title', 'Title_Factorised')\n",
    "column_fact(train_data, 'Position', 'Position_Factorised')\n",
    "column_fact(train_data, 'Cab_Level', 'Cab_Level_Factorised')\n",
    "column_fact(train_data, 'Group', 'Group_Factorised')\n",
    "# column_fact(train_data, 'Age_Bin', 'Age_Bin_Factorised')\n",
    "# column_fact(train_data, 'Fare_Bin', 'Fare_Bin_Factorised')\n",
    "column_fact(train_data, 'Name_Length', 'Name_Length_Factorised')\n",
    "column_fact(X_test, 'Sex', 'Sex_Factorised')\n",
    "column_fact(X_test, 'Embarked', 'Embarked_Factorised')\n",
    "column_fact(X_test, 'Title', 'Title_Factorised')\n",
    "column_fact(X_test, 'Position', 'Position_Factorised')\n",
    "column_fact(X_test, 'Cab_Level', 'Cab_Level_Factorised')\n",
    "column_fact(X_test, 'Group', 'Group_Factorised')\n",
    "# column_fact(X_test, 'Age_Bin', 'Age_Bin_Factorised')\n",
    "# column_fact(X_test, 'Fare_Bin', 'Fare_Bin_Factorised')\n",
    "column_fact(X_test, 'Name_Length', 'Name_Length_Factorised')"
   ]
  },
  {
   "cell_type": "code",
   "execution_count": 16,
   "metadata": {
    "execution": {
     "iopub.execute_input": "2022-07-03T23:45:32.697701Z",
     "iopub.status.busy": "2022-07-03T23:45:32.696746Z",
     "iopub.status.idle": "2022-07-03T23:45:32.706516Z",
     "shell.execute_reply": "2022-07-03T23:45:32.707022Z"
    },
    "papermill": {
     "duration": 0.031249,
     "end_time": "2022-07-03T23:45:32.707220",
     "exception": false,
     "start_time": "2022-07-03T23:45:32.675971",
     "status": "completed"
    },
    "tags": []
   },
   "outputs": [],
   "source": [
    "Y_train = train_data['Survived']\n",
    "\n",
    "train = train_data.drop(['Age', 'Fare', 'Name', 'Shared', 'Sex', 'Ticket', 'Cabin', 'Cab_No', \n",
    "                          'Embarked', 'Title', 'Cab_Level', 'Position', 'Group', \n",
    "                          'Name_Length', 'Survived',  'SibSp', 'Parch', 'PassengerId'], axis=1)\n",
    "Xtest = X_test.drop(['Age', 'Fare', 'Name', 'Shared', 'Sex', 'Ticket', 'Cabin', 'Cab_No',\n",
    "                        'Embarked', 'Title', 'Cab_Level', 'Position', 'Group',\n",
    "                        'Name_Length', 'PassengerId',  'SibSp', 'Parch'], axis=1)"
   ]
  },
  {
   "cell_type": "code",
   "execution_count": 17,
   "metadata": {
    "execution": {
     "iopub.execute_input": "2022-07-03T23:45:32.745805Z",
     "iopub.status.busy": "2022-07-03T23:45:32.745096Z",
     "iopub.status.idle": "2022-07-03T23:45:32.751767Z",
     "shell.execute_reply": "2022-07-03T23:45:32.752318Z"
    },
    "papermill": {
     "duration": 0.028205,
     "end_time": "2022-07-03T23:45:32.752648",
     "exception": false,
     "start_time": "2022-07-03T23:45:32.724443",
     "status": "completed"
    },
    "tags": []
   },
   "outputs": [],
   "source": [
    "Train_x, Test_x, Train_y, Test_y = train_test_split(train, Y_train, test_size=0.33, random_state=40)"
   ]
  },
  {
   "cell_type": "code",
   "execution_count": 18,
   "metadata": {
    "execution": {
     "iopub.execute_input": "2022-07-03T23:45:32.793760Z",
     "iopub.status.busy": "2022-07-03T23:45:32.793079Z",
     "iopub.status.idle": "2022-07-03T23:45:33.193822Z",
     "shell.execute_reply": "2022-07-03T23:45:33.193038Z"
    },
    "papermill": {
     "duration": 0.421619,
     "end_time": "2022-07-03T23:45:33.193997",
     "exception": false,
     "start_time": "2022-07-03T23:45:32.772378",
     "status": "completed"
    },
    "tags": []
   },
   "outputs": [
    {
     "name": "stdout",
     "output_type": "stream",
     "text": [
      "[23:45:32] WARNING: ../src/learner.cc:1061: Starting in XGBoost 1.3.0, the default evaluation metric used with the objective 'binary:logistic' was changed from 'error' to 'logloss'. Explicitly set eval_metric if you'd like to restore the old behavior.\n",
      "[[167  10]\n",
      " [ 36  78]]\n",
      "0.8419243986254296\n",
      "0.8863636363636364\n",
      "0.6842105263157895\n",
      "0.7722772277227723\n"
     ]
    }
   ],
   "source": [
    "#I played around with these hyperparameters a fair bit while offline. \n",
    "GB = GradientBoostingClassifier(n_estimators= 11, learning_rate=0.5, max_depth=1, random_state=0)\n",
    "\n",
    "XGB = XGBClassifier(learning_rate =0.1, n_estimators=10, max_depth=2, min_child_weight=5,\n",
    "                         gamma=0.0025, subsample=1, nthread=12, scale_pos_weight=0.35, seed=0)\n",
    "\n",
    "LGBM = LGBMClassifier(max_depth = 20, learning_rate = 0.01, num_leaves = 35, n_estimators = 250)\n",
    "\n",
    "VCLF = VotingClassifier(estimators=[('gb', GB), ('XGB', XGB), ('LGBM', LGBM)], voting='hard')\n",
    "\n",
    "VCLF = VCLF.fit(Train_x, Train_y)\n",
    "y_pred = VCLF.predict(Test_x)\n",
    "\n",
    "matrix = confusion_matrix(Test_y, y_pred)\n",
    "print(matrix)\n",
    "print(accuracy_score(Test_y, y_pred))\n",
    "print(precision_score(Test_y, y_pred))\n",
    "print(recall_score(Test_y, y_pred))\n",
    "print(f1_score(Test_y, y_pred))"
   ]
  },
  {
   "cell_type": "code",
   "execution_count": 19,
   "metadata": {
    "execution": {
     "iopub.execute_input": "2022-07-03T23:45:33.239959Z",
     "iopub.status.busy": "2022-07-03T23:45:33.239089Z",
     "iopub.status.idle": "2022-07-03T23:45:33.262013Z",
     "shell.execute_reply": "2022-07-03T23:45:33.261297Z"
    },
    "papermill": {
     "duration": 0.04918,
     "end_time": "2022-07-03T23:45:33.262184",
     "exception": false,
     "start_time": "2022-07-03T23:45:33.213004",
     "status": "completed"
    },
    "tags": []
   },
   "outputs": [],
   "source": [
    "Y_pred = VCLF.predict(Xtest)"
   ]
  },
  {
   "cell_type": "code",
   "execution_count": 20,
   "metadata": {
    "execution": {
     "iopub.execute_input": "2022-07-03T23:45:33.310519Z",
     "iopub.status.busy": "2022-07-03T23:45:33.309810Z",
     "iopub.status.idle": "2022-07-03T23:45:33.317984Z",
     "shell.execute_reply": "2022-07-03T23:45:33.318482Z"
    },
    "papermill": {
     "duration": 0.034966,
     "end_time": "2022-07-03T23:45:33.318739",
     "exception": false,
     "start_time": "2022-07-03T23:45:33.283773",
     "status": "completed"
    },
    "tags": []
   },
   "outputs": [
    {
     "name": "stdout",
     "output_type": "stream",
     "text": [
      "Your submission was successfully saved!\n"
     ]
    }
   ],
   "source": [
    "output = pd.DataFrame({'PassengerId': X_test.PassengerId, 'Survived': Y_pred})\n",
    "output.to_csv('submission.csv', index=False)\n",
    "print(\"Your submission was successfully saved!\")"
   ]
  }
 ],
 "metadata": {
  "kernelspec": {
   "display_name": "Python 3",
   "language": "python",
   "name": "python3"
  },
  "language_info": {
   "codemirror_mode": {
    "name": "ipython",
    "version": 3
   },
   "file_extension": ".py",
   "mimetype": "text/x-python",
   "name": "python",
   "nbconvert_exporter": "python",
   "pygments_lexer": "ipython3",
   "version": "3.7.9"
  },
  "papermill": {
   "default_parameters": {},
   "duration": 10.337633,
   "end_time": "2022-07-03T23:45:34.048745",
   "environment_variables": {},
   "exception": null,
   "input_path": "__notebook__.ipynb",
   "output_path": "__notebook__.ipynb",
   "parameters": {},
   "start_time": "2022-07-03T23:45:23.711112",
   "version": "2.2.2"
  }
 },
 "nbformat": 4,
 "nbformat_minor": 4
}
